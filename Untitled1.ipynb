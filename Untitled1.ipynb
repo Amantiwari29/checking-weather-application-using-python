{
 "cells": [
  {
   "cell_type": "code",
   "execution_count": 3,
   "id": "e8c7780f-89bb-4e60-971a-71f04d02fca5",
   "metadata": {},
   "outputs": [],
   "source": [
    "import requests\n",
    "import tkinter as tk\n",
    "from tkinter import messagebox\n",
    "\n",
    "def get_weather(api_key, location):\n",
    "    base_url = \"http://api.openweathermap.org/data/2.5/weather\"\n",
    "    params = {\n",
    "        'q': location,\n",
    "        'appid': api_key,\n",
    "        'units': 'metric'\n",
    "    }\n",
    "    response = requests.get(base_url, params=params)\n",
    "    if response.status_code == 200:\n",
    "        return response.json()\n",
    "    else:\n",
    "        return None\n",
    "\n",
    "def display_weather():\n",
    "    location = entry_location.get()\n",
    "    if not location:\n",
    "        messagebox.showwarning(\"Input Error\", \"Please enter a city name or ZIP code.\")\n",
    "        return\n",
    "\n",
    "    api_key = \"c0b125687c5cb90d5a00cf01951e3df3\"  \n",
    "    weather_data = get_weather(api_key, location)\n",
    "\n",
    "    if weather_data:\n",
    "        city = weather_data['name']\n",
    "        temp = weather_data['main']['temp']\n",
    "        humidity = weather_data['main']['humidity']\n",
    "        weather = weather_data['weather'][0]['description']\n",
    "        result.set(f\"Weather in {city}:\\nTemperature: {temp}°C\\nHumidity: {humidity}%\\nCondition: {weather}\")\n",
    "    else:\n",
    "        messagebox.showerror(\"Error\", \"Error fetching weather data.\")\n",
    "\n",
    "app = tk.Tk()\n",
    "app.title(\"Weather App\")\n",
    "\n",
    "frame = tk.Frame(app)\n",
    "frame.pack(padx=10, pady=10)\n",
    "\n",
    "label_location = tk.Label(frame, text=\"Enter city name or ZIP code:\")\n",
    "label_location.grid(row=0, column=0, pady=(0, 5))\n",
    "\n",
    "entry_location = tk.Entry(frame, width=30)\n",
    "entry_location.grid(row=1, column=0, pady=(0, 10))\n",
    "\n",
    "button_fetch = tk.Button(frame, text=\"Fetch Weather\", command=display_weather)\n",
    "button_fetch.grid(row=2, column=0, pady=(0, 10))\n",
    "\n",
    "result = tk.StringVar()\n",
    "label_result = tk.Label(frame, textvariable=result, justify=\"left\")\n",
    "label_result.grid(row=3, column=0, pady=(10, 0))\n",
    "\n",
    "app.mainloop()\n"
   ]
  },
  {
   "cell_type": "code",
   "execution_count": null,
   "id": "5accae54-a758-4e04-a343-0b9074455594",
   "metadata": {},
   "outputs": [],
   "source": []
  }
 ],
 "metadata": {
  "kernelspec": {
   "display_name": "Python 3 (ipykernel)",
   "language": "python",
   "name": "python3"
  },
  "language_info": {
   "codemirror_mode": {
    "name": "ipython",
    "version": 3
   },
   "file_extension": ".py",
   "mimetype": "text/x-python",
   "name": "python",
   "nbconvert_exporter": "python",
   "pygments_lexer": "ipython3",
   "version": "3.12.4"
  }
 },
 "nbformat": 4,
 "nbformat_minor": 5
}
